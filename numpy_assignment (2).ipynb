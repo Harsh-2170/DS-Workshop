{
  "nbformat": 4,
  "nbformat_minor": 0,
  "metadata": {
    "colab": {
      "provenance": []
    },
    "kernelspec": {
      "name": "python3",
      "display_name": "Python 3"
    },
    "language_info": {
      "name": "python"
    }
  },
  "cells": [
    {
      "cell_type": "code",
      "execution_count": 5,
      "metadata": {
        "id": "WAu3yLBoEs4m",
        "colab": {
          "base_uri": "https://localhost:8080/"
        },
        "outputId": "22c60ff8-1345-40dd-f2a8-69113a9bdb6c"
      },
      "outputs": [
        {
          "output_type": "stream",
          "name": "stdout",
          "text": [
            "[[[10 11 12]\n",
            "  [12 13 14]\n",
            "  [15 16 17]]]\n"
          ]
        }
      ],
      "source": [
        "#create any 3 dimensional array and practice indexing\n",
        "import numpy as np\n",
        "array=np.array([[[10,11,12],[12,13,14],[15,16,17]]])\n",
        "print(array)"
      ]
    },
    {
      "cell_type": "code",
      "source": [
        "print(array[0,1,2])"
      ],
      "metadata": {
        "colab": {
          "base_uri": "https://localhost:8080/"
        },
        "id": "qzvUlzbiyzOu",
        "outputId": "efb7c67d-1e86-4bb7-d7a5-25d445a9c735"
      },
      "execution_count": 8,
      "outputs": [
        {
          "output_type": "stream",
          "name": "stdout",
          "text": [
            "14\n"
          ]
        }
      ]
    },
    {
      "cell_type": "code",
      "source": [
        "#create array of suqares of keys of below dictionary\n",
        "#d = {1:2,2:3,3:4,4:5}\n",
        "d = {1:2,2:3,3:4,4:5}\n",
        "keys=d.keys()\n",
        "squares=[i**2 for i in keys]\n",
        "array=np.array(squares)\n",
        "array"
      ],
      "metadata": {
        "id": "heew7jo-tBoD",
        "colab": {
          "base_uri": "https://localhost:8080/"
        },
        "outputId": "4a15fb07-4b5b-474c-ec51-eda7a27f3a5d"
      },
      "execution_count": 16,
      "outputs": [
        {
          "output_type": "execute_result",
          "data": {
            "text/plain": [
              "array([ 1,  4,  9, 16])"
            ]
          },
          "metadata": {},
          "execution_count": 16
        }
      ]
    },
    {
      "cell_type": "code",
      "source": [
        "# multiply any 2 dim array to identity matrix (2*2) and comment on result\n",
        "array_1=np.array([[5,6],[6,7]])\n",
        "array_2=np.eye(2,2)\n",
        "array_3=array_1*array_2\n",
        "print(array_3)"
      ],
      "metadata": {
        "id": "lVm5ozRmtZEK",
        "colab": {
          "base_uri": "https://localhost:8080/"
        },
        "outputId": "69ceb1a9-279d-488d-9b0b-f4860db37efc"
      },
      "execution_count": 17,
      "outputs": [
        {
          "output_type": "stream",
          "name": "stdout",
          "text": [
            "[[5. 0.]\n",
            " [0. 7.]]\n"
          ]
        }
      ]
    }
  ]
}