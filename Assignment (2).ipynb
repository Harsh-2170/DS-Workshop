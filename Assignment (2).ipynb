{
  "nbformat": 4,
  "nbformat_minor": 0,
  "metadata": {
    "colab": {
      "provenance": []
    },
    "kernelspec": {
      "name": "python3",
      "display_name": "Python 3"
    },
    "language_info": {
      "name": "python"
    }
  },
  "cells": [
    {
      "cell_type": "code",
      "execution_count": null,
      "metadata": {
        "id": "HDkSxkmSUHRT",
        "colab": {
          "base_uri": "https://localhost:8080/"
        },
        "outputId": "572a96ed-7d65-4fbc-e842-5433c08c8635"
      },
      "outputs": [
        {
          "output_type": "stream",
          "name": "stdout",
          "text": [
            "[4, 6, 8, 10]\n"
          ]
        }
      ],
      "source": [
        "l1 = [1,2,3,4]\n",
        "l2=[3,4,5,6]\n",
        "add=[a+b for a,b in zip(l1,l2)]\n",
        "print(add)\n",
        "#add this two list elementwise"
      ]
    },
    {
      "cell_type": "code",
      "source": [
        "#Find maximum element combining two list l1 and l2\n",
        "l1=[1,2,3,4]\n",
        "l2=[3,4,5,6]\n",
        "maximum_element=max(l1+l2)\n",
        "print(maximum_element)"
      ],
      "metadata": {
        "id": "DyEJ56p-US2T",
        "colab": {
          "base_uri": "https://localhost:8080/"
        },
        "outputId": "ecf00d4e-4873-495d-ae0f-5008ea8a8b0b"
      },
      "execution_count": null,
      "outputs": [
        {
          "output_type": "stream",
          "name": "stdout",
          "text": [
            "6\n"
          ]
        }
      ]
    },
    {
      "cell_type": "code",
      "source": [
        "#find common elements from list l1 and l1\n",
        "l1=[1,2,3,4]\n",
        "l2=[3,4,5,6]\n",
        "common_elements=list(set(l1) & set(l2))\n",
        "print(common_elements)"
      ],
      "metadata": {
        "id": "DJ-yEKuhUzHa",
        "colab": {
          "base_uri": "https://localhost:8080/"
        },
        "outputId": "baaf9ef8-551a-47e2-fc82-c6805b744968"
      },
      "execution_count": null,
      "outputs": [
        {
          "output_type": "stream",
          "name": "stdout",
          "text": [
            "[3, 4]\n"
          ]
        }
      ]
    },
    {
      "cell_type": "code",
      "source": [
        "d1 = {'a': 1, 'b': 2, 'c': 3, 'd': 4}\n",
        "d2 = {'a': 7, 'f': 2, 'g': 55, 'h': \"101\"}\n",
        "\n",
        "#find common key from d1 and d2\n",
        "common_keys=set(d1.keys()) & set(d2.keys())\n",
        "print(common_keys)\n",
        "#find common value from d1 and d2\n",
        "common_values=set(d1.values()) & set(d2.values())\n",
        "print(common_values)"
      ],
      "metadata": {
        "id": "R9O5Y42CVIt6",
        "colab": {
          "base_uri": "https://localhost:8080/"
        },
        "outputId": "0a2fba31-01b9-4931-abce-c9a02331c9c1"
      },
      "execution_count": null,
      "outputs": [
        {
          "output_type": "stream",
          "name": "stdout",
          "text": [
            "{'a'}\n",
            "{2}\n"
          ]
        }
      ]
    },
    {
      "cell_type": "markdown",
      "source": [],
      "metadata": {
        "id": "LecVBMrs863Y"
      }
    },
    {
      "cell_type": "code",
      "source": [
        "#replace the values of d1 to their negative value\n",
        "d1 = {'a': 1, 'b': 2, 'c': 3, 'd': 4}\n",
        "d2 = {'a': 7, 'f': 2, 'g': 55, 'h': \"101\"}\n",
        "d1={k:-v for k,v in d1.items()}\n",
        "print(d1)"
      ],
      "metadata": {
        "id": "F7fLH0gvVnCL",
        "colab": {
          "base_uri": "https://localhost:8080/"
        },
        "outputId": "3c688b86-1065-41f2-a031-62bdf1466822"
      },
      "execution_count": null,
      "outputs": [
        {
          "output_type": "stream",
          "name": "stdout",
          "text": [
            "{'a': -1, 'b': -2, 'c': -3, 'd': -4}\n"
          ]
        }
      ]
    },
    {
      "cell_type": "code",
      "source": [
        "#replace key to value and value to key in d2\n",
        "d2 = {'a': 7, 'f': 2, 'g': 55, 'h': \"101\"}\n",
        "d2={v:k for k,v in d2.items()}\n",
        "print(d2)\n"
      ],
      "metadata": {
        "id": "BAr0i9uHWAKq",
        "colab": {
          "base_uri": "https://localhost:8080/"
        },
        "outputId": "1168c09f-8481-49a9-8d56-07bb697a8ae8"
      },
      "execution_count": null,
      "outputs": [
        {
          "output_type": "stream",
          "name": "stdout",
          "text": [
            "{7: 'a', 2: 'f', 55: 'g', '101': 'h'}\n"
          ]
        }
      ]
    },
    {
      "cell_type": "code",
      "source": [
        "#create an array of random numbers\n",
        "import numpy as np\n",
        "array=np.random.rand(10)\n",
        "print(array)"
      ],
      "metadata": {
        "colab": {
          "base_uri": "https://localhost:8080/"
        },
        "id": "cTxm5YFut2lo",
        "outputId": "29b5cccb-d685-4359-ce06-a9333d3fce1b"
      },
      "execution_count": null,
      "outputs": [
        {
          "output_type": "stream",
          "name": "stdout",
          "text": [
            "[0.15413344 0.8227242  0.85507877 0.28123392 0.04913141 0.04559171\n",
            " 0.82270888 0.09168999 0.1698436  0.14137535]\n"
          ]
        }
      ]
    },
    {
      "cell_type": "code",
      "source": [
        "#to create an array with sequence of numbers within a specified range\n",
        "array=np.arange(10,20)\n",
        "print(array)"
      ],
      "metadata": {
        "colab": {
          "base_uri": "https://localhost:8080/"
        },
        "id": "8WOukCBRvBUX",
        "outputId": "b83b975f-1a9b-4348-c0a6-85425c14f7ce"
      },
      "execution_count": null,
      "outputs": [
        {
          "output_type": "stream",
          "name": "stdout",
          "text": [
            "[10 11 12 13 14 15 16 17 18 19]\n"
          ]
        }
      ]
    },
    {
      "cell_type": "code",
      "source": [
        "#To create array filled wih zeros\n",
        "array=np.zeros(10)\n",
        "print(array)"
      ],
      "metadata": {
        "colab": {
          "base_uri": "https://localhost:8080/"
        },
        "id": "t4-jM9Hkvcp7",
        "outputId": "61e05677-4ecb-49d0-d674-b6168c8107ba"
      },
      "execution_count": null,
      "outputs": [
        {
          "output_type": "stream",
          "name": "stdout",
          "text": [
            "[0. 0. 0. 0. 0. 0. 0. 0. 0. 0.]\n"
          ]
        }
      ]
    },
    {
      "cell_type": "code",
      "source": [
        "#To create array filled with ones\n",
        "array=np.ones(10)\n",
        "print(array)"
      ],
      "metadata": {
        "colab": {
          "base_uri": "https://localhost:8080/"
        },
        "id": "qxNORhqov2-_",
        "outputId": "10b90ce9-1f96-4561-bf9a-df7ab019b16d"
      },
      "execution_count": null,
      "outputs": [
        {
          "output_type": "stream",
          "name": "stdout",
          "text": [
            "[1. 1. 1. 1. 1. 1. 1. 1. 1. 1.]\n"
          ]
        }
      ]
    }
  ]
}